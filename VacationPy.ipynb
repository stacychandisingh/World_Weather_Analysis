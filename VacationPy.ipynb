{
 "cells": [
  {
   "cell_type": "code",
   "execution_count": 4,
   "metadata": {},
   "outputs": [],
   "source": [
    "# Import the dependencies.\n",
    "import pandas as pd\n",
    "import gmaps\n",
    "import requests\n"
   ]
  },
  {
   "cell_type": "code",
   "execution_count": 5,
   "metadata": {},
   "outputs": [],
   "source": [
    "# Import the API key.\n",
    "from config_copy import g_key"
   ]
  },
  {
   "cell_type": "code",
   "execution_count": 6,
   "metadata": {},
   "outputs": [
    {
     "data": {
      "text/html": [
       "<div>\n",
       "<style scoped>\n",
       "    .dataframe tbody tr th:only-of-type {\n",
       "        vertical-align: middle;\n",
       "    }\n",
       "\n",
       "    .dataframe tbody tr th {\n",
       "        vertical-align: top;\n",
       "    }\n",
       "\n",
       "    .dataframe thead th {\n",
       "        text-align: right;\n",
       "    }\n",
       "</style>\n",
       "<table border=\"1\" class=\"dataframe\">\n",
       "  <thead>\n",
       "    <tr style=\"text-align: right;\">\n",
       "      <th></th>\n",
       "      <th>City_ID</th>\n",
       "      <th>City</th>\n",
       "      <th>Country</th>\n",
       "      <th>Date</th>\n",
       "      <th>Lat</th>\n",
       "      <th>Lng</th>\n",
       "      <th>Max Temp</th>\n",
       "      <th>Humidity</th>\n",
       "      <th>Cloudiness</th>\n",
       "      <th>Wind Speed</th>\n",
       "    </tr>\n",
       "  </thead>\n",
       "  <tbody>\n",
       "    <tr>\n",
       "      <th>0</th>\n",
       "      <td>0</td>\n",
       "      <td>Sao Filipe</td>\n",
       "      <td>CV</td>\n",
       "      <td>2020-10-31 00:32:46</td>\n",
       "      <td>14.90</td>\n",
       "      <td>-24.50</td>\n",
       "      <td>81.32</td>\n",
       "      <td>59</td>\n",
       "      <td>100</td>\n",
       "      <td>15.28</td>\n",
       "    </tr>\n",
       "    <tr>\n",
       "      <th>1</th>\n",
       "      <td>1</td>\n",
       "      <td>Mataura</td>\n",
       "      <td>NZ</td>\n",
       "      <td>2020-10-31 00:32:46</td>\n",
       "      <td>-46.19</td>\n",
       "      <td>168.86</td>\n",
       "      <td>54.00</td>\n",
       "      <td>98</td>\n",
       "      <td>100</td>\n",
       "      <td>13.00</td>\n",
       "    </tr>\n",
       "    <tr>\n",
       "      <th>2</th>\n",
       "      <td>2</td>\n",
       "      <td>Pangnirtung</td>\n",
       "      <td>CA</td>\n",
       "      <td>2020-10-31 00:32:46</td>\n",
       "      <td>66.15</td>\n",
       "      <td>-65.71</td>\n",
       "      <td>8.55</td>\n",
       "      <td>79</td>\n",
       "      <td>78</td>\n",
       "      <td>3.40</td>\n",
       "    </tr>\n",
       "    <tr>\n",
       "      <th>3</th>\n",
       "      <td>3</td>\n",
       "      <td>Puerto Ayora</td>\n",
       "      <td>EC</td>\n",
       "      <td>2020-10-31 00:28:40</td>\n",
       "      <td>-0.74</td>\n",
       "      <td>-90.35</td>\n",
       "      <td>70.00</td>\n",
       "      <td>92</td>\n",
       "      <td>65</td>\n",
       "      <td>3.00</td>\n",
       "    </tr>\n",
       "    <tr>\n",
       "      <th>4</th>\n",
       "      <td>4</td>\n",
       "      <td>Severnoye</td>\n",
       "      <td>RU</td>\n",
       "      <td>2020-10-31 00:32:46</td>\n",
       "      <td>56.35</td>\n",
       "      <td>78.36</td>\n",
       "      <td>33.31</td>\n",
       "      <td>97</td>\n",
       "      <td>100</td>\n",
       "      <td>7.72</td>\n",
       "    </tr>\n",
       "  </tbody>\n",
       "</table>\n",
       "</div>"
      ],
      "text/plain": [
       "   City_ID          City Country                 Date    Lat     Lng  \\\n",
       "0        0    Sao Filipe      CV  2020-10-31 00:32:46  14.90  -24.50   \n",
       "1        1       Mataura      NZ  2020-10-31 00:32:46 -46.19  168.86   \n",
       "2        2   Pangnirtung      CA  2020-10-31 00:32:46  66.15  -65.71   \n",
       "3        3  Puerto Ayora      EC  2020-10-31 00:28:40  -0.74  -90.35   \n",
       "4        4     Severnoye      RU  2020-10-31 00:32:46  56.35   78.36   \n",
       "\n",
       "   Max Temp  Humidity  Cloudiness  Wind Speed  \n",
       "0     81.32        59         100       15.28  \n",
       "1     54.00        98         100       13.00  \n",
       "2      8.55        79          78        3.40  \n",
       "3     70.00        92          65        3.00  \n",
       "4     33.31        97         100        7.72  "
      ]
     },
     "execution_count": 6,
     "metadata": {},
     "output_type": "execute_result"
    }
   ],
   "source": [
    "# Store the CSV you saved created in part one into a DataFrame.\n",
    "city_data_df = pd.read_csv(\"weather_data/cities.csv\")\n",
    "city_data_df.head()"
   ]
  },
  {
   "cell_type": "code",
   "execution_count": 7,
   "metadata": {},
   "outputs": [
    {
     "data": {
      "text/plain": [
       "City_ID         int64\n",
       "City           object\n",
       "Country        object\n",
       "Date           object\n",
       "Lat           float64\n",
       "Lng           float64\n",
       "Max Temp      float64\n",
       "Humidity        int64\n",
       "Cloudiness      int64\n",
       "Wind Speed    float64\n",
       "dtype: object"
      ]
     },
     "execution_count": 7,
     "metadata": {},
     "output_type": "execute_result"
    }
   ],
   "source": [
    "#Get the data types\n",
    "city_data_df.dtypes"
   ]
  },
  {
   "cell_type": "code",
   "execution_count": 8,
   "metadata": {},
   "outputs": [],
   "source": [
    "# Configure gmaps to use your Google API key.\n",
    "gmaps.configure(api_key=g_key)"
   ]
  },
  {
   "cell_type": "code",
   "execution_count": 11,
   "metadata": {},
   "outputs": [],
   "source": [
    "# Get the maximum temperature.\n",
    "max_temp = city_data_df[\"Max Temp\"]\n",
    "temps = []\n",
    "for temp in max_temp:\n",
    "    temps.append(max(temp, 0))"
   ]
  },
  {
   "cell_type": "code",
   "execution_count": 20,
   "metadata": {},
   "outputs": [
    {
     "data": {
      "application/vnd.jupyter.widget-view+json": {
       "model_id": "fe5b80aec67c49c2916359fbe9d833df",
       "version_major": 2,
       "version_minor": 0
      },
      "text/plain": [
       "Figure(layout=FigureLayout(height='420px'))"
      ]
     },
     "metadata": {},
     "output_type": "display_data"
    }
   ],
   "source": [
    "# Heatmap of temperature\n",
    "# Get the latitude and longitude.\n",
    "locations = city_data_df[[\"Lat\", \"Lng\"]]\n",
    "# Get the maximum temperature.\n",
    "max_temp = city_data_df[\"Max Temp\"]\n",
    "# Assign the figure variable.\n",
    "fig = gmaps.figure(center=(30.0, 31.0), zoom_level=1.7)\n",
    "# Assign the heatmap variable.\n",
    "heat_layer = gmaps.heatmap_layer(locations, weights=[max(temp, 0) for temp in max_temp], dissipating=False, max_intensity=300, point_radius=4)\n",
    "# Add the heatmap layer.\n",
    "fig.add_layer(heat_layer)\n",
    "# Call the figure to plot the data.\n",
    "fig"
   ]
  },
  {
   "cell_type": "code",
   "execution_count": 21,
   "metadata": {},
   "outputs": [
    {
     "data": {
      "application/vnd.jupyter.widget-view+json": {
       "model_id": "3a722c6dc0d2414ba13d5a8d2924b34d",
       "version_major": 2,
       "version_minor": 0
      },
      "text/plain": [
       "Figure(layout=FigureLayout(height='420px'))"
      ]
     },
     "metadata": {},
     "output_type": "display_data"
    }
   ],
   "source": [
    "# Heatmap of percent humidity\n",
    "locations = city_data_df[[\"Lat\", \"Lng\"]]\n",
    "humidity = city_data_df[\"Humidity\"]\n",
    "fig = gmaps.figure(center=(30.0, 31.0), zoom_level=1.5)\n",
    "heat_layer = gmaps.heatmap_layer(locations, weights=humidity, dissipating=False, max_intensity=300, point_radius=4)\n",
    "\n",
    "fig.add_layer(heat_layer)\n",
    "# Call the figure to plot the data.\n",
    "fig"
   ]
  },
  {
   "cell_type": "code",
   "execution_count": 23,
   "metadata": {},
   "outputs": [
    {
     "data": {
      "application/vnd.jupyter.widget-view+json": {
       "model_id": "37b33c692293499c9f1f08c0d92b90fe",
       "version_major": 2,
       "version_minor": 0
      },
      "text/plain": [
       "Figure(layout=FigureLayout(height='420px'))"
      ]
     },
     "metadata": {},
     "output_type": "display_data"
    }
   ],
   "source": [
    "# Heatmap of percent cloudiness\n",
    "locations = city_data_df[[\"Lat\", \"Lng\"]]\n",
    "clouds = city_data_df[\"Cloudiness\"]\n",
    "fig = gmaps.figure(center=(30.0, 31.0), zoom_level=1.5)\n",
    "heat_layer = gmaps.heatmap_layer(locations, weights=clouds, dissipating=False, max_intensity=300, point_radius=4)\n",
    "\n",
    "fig.add_layer(heat_layer)\n",
    "# Call the figure to plot the data.\n",
    "fig"
   ]
  },
  {
   "cell_type": "code",
   "execution_count": 24,
   "metadata": {},
   "outputs": [
    {
     "data": {
      "application/vnd.jupyter.widget-view+json": {
       "model_id": "c814357008e744c18ec0a510f4911ad9",
       "version_major": 2,
       "version_minor": 0
      },
      "text/plain": [
       "Figure(layout=FigureLayout(height='420px'))"
      ]
     },
     "metadata": {},
     "output_type": "display_data"
    }
   ],
   "source": [
    "# Heatmap of percent cloudiness\n",
    "locations = city_data_df[[\"Lat\", \"Lng\"]]\n",
    "wind = city_data_df[\"Wind Speed\"]\n",
    "fig = gmaps.figure(center=(30.0, 31.0), zoom_level=1.5)\n",
    "heat_layer = gmaps.heatmap_layer(locations, weights=wind, dissipating=False, max_intensity=300, point_radius=4)\n",
    "\n",
    "fig.add_layer(heat_layer)\n",
    "# Call the figure to plot the data.\n",
    "fig"
   ]
  },
  {
   "cell_type": "code",
   "execution_count": 25,
   "metadata": {},
   "outputs": [
    {
     "name": "stdout",
     "output_type": "stream",
     "text": [
      "What is the minimum temperature you would like for your trip? 75\n",
      "What is the maximum temperature you would like for your trip? 90\n"
     ]
    }
   ],
   "source": [
    "# Ask the customer to add a minimum and maximum temperature value.\n",
    "min_temp = float(input(\"What is the minimum temperature you would like for your trip? \"))\n",
    "max_temp = float(input(\"What is the maximum temperature you would like for your trip? \"))"
   ]
  },
  {
   "cell_type": "code",
   "execution_count": 29,
   "metadata": {},
   "outputs": [
    {
     "data": {
      "text/html": [
       "<div>\n",
       "<style scoped>\n",
       "    .dataframe tbody tr th:only-of-type {\n",
       "        vertical-align: middle;\n",
       "    }\n",
       "\n",
       "    .dataframe tbody tr th {\n",
       "        vertical-align: top;\n",
       "    }\n",
       "\n",
       "    .dataframe thead th {\n",
       "        text-align: right;\n",
       "    }\n",
       "</style>\n",
       "<table border=\"1\" class=\"dataframe\">\n",
       "  <thead>\n",
       "    <tr style=\"text-align: right;\">\n",
       "      <th></th>\n",
       "      <th>City_ID</th>\n",
       "      <th>City</th>\n",
       "      <th>Country</th>\n",
       "      <th>Date</th>\n",
       "      <th>Lat</th>\n",
       "      <th>Lng</th>\n",
       "      <th>Max Temp</th>\n",
       "      <th>Humidity</th>\n",
       "      <th>Cloudiness</th>\n",
       "      <th>Wind Speed</th>\n",
       "    </tr>\n",
       "  </thead>\n",
       "  <tbody>\n",
       "    <tr>\n",
       "      <th>0</th>\n",
       "      <td>0</td>\n",
       "      <td>Sao Filipe</td>\n",
       "      <td>CV</td>\n",
       "      <td>2020-10-31 00:32:46</td>\n",
       "      <td>14.90</td>\n",
       "      <td>-24.50</td>\n",
       "      <td>81.32</td>\n",
       "      <td>59</td>\n",
       "      <td>100</td>\n",
       "      <td>15.28</td>\n",
       "    </tr>\n",
       "    <tr>\n",
       "      <th>5</th>\n",
       "      <td>5</td>\n",
       "      <td>Atar</td>\n",
       "      <td>MR</td>\n",
       "      <td>2020-10-31 00:32:09</td>\n",
       "      <td>20.52</td>\n",
       "      <td>-13.05</td>\n",
       "      <td>82.89</td>\n",
       "      <td>16</td>\n",
       "      <td>10</td>\n",
       "      <td>7.99</td>\n",
       "    </tr>\n",
       "    <tr>\n",
       "      <th>6</th>\n",
       "      <td>6</td>\n",
       "      <td>Kanigoro</td>\n",
       "      <td>ID</td>\n",
       "      <td>2020-10-31 00:32:47</td>\n",
       "      <td>-8.13</td>\n",
       "      <td>112.22</td>\n",
       "      <td>81.28</td>\n",
       "      <td>72</td>\n",
       "      <td>89</td>\n",
       "      <td>5.93</td>\n",
       "    </tr>\n",
       "    <tr>\n",
       "      <th>7</th>\n",
       "      <td>7</td>\n",
       "      <td>Oranjestad</td>\n",
       "      <td>AW</td>\n",
       "      <td>2020-10-31 00:30:50</td>\n",
       "      <td>12.52</td>\n",
       "      <td>-70.03</td>\n",
       "      <td>82.40</td>\n",
       "      <td>83</td>\n",
       "      <td>40</td>\n",
       "      <td>9.17</td>\n",
       "    </tr>\n",
       "    <tr>\n",
       "      <th>11</th>\n",
       "      <td>11</td>\n",
       "      <td>Alenquer</td>\n",
       "      <td>BR</td>\n",
       "      <td>2020-10-31 00:32:48</td>\n",
       "      <td>-1.94</td>\n",
       "      <td>-54.74</td>\n",
       "      <td>78.80</td>\n",
       "      <td>88</td>\n",
       "      <td>20</td>\n",
       "      <td>3.36</td>\n",
       "    </tr>\n",
       "    <tr>\n",
       "      <th>15</th>\n",
       "      <td>15</td>\n",
       "      <td>Kloulklubed</td>\n",
       "      <td>PW</td>\n",
       "      <td>2020-10-31 00:32:48</td>\n",
       "      <td>7.04</td>\n",
       "      <td>134.26</td>\n",
       "      <td>82.40</td>\n",
       "      <td>83</td>\n",
       "      <td>75</td>\n",
       "      <td>20.80</td>\n",
       "    </tr>\n",
       "    <tr>\n",
       "      <th>19</th>\n",
       "      <td>19</td>\n",
       "      <td>Avarua</td>\n",
       "      <td>CK</td>\n",
       "      <td>2020-10-31 00:32:49</td>\n",
       "      <td>-21.21</td>\n",
       "      <td>-159.78</td>\n",
       "      <td>77.00</td>\n",
       "      <td>73</td>\n",
       "      <td>99</td>\n",
       "      <td>8.05</td>\n",
       "    </tr>\n",
       "    <tr>\n",
       "      <th>20</th>\n",
       "      <td>20</td>\n",
       "      <td>Port Moresby</td>\n",
       "      <td>PG</td>\n",
       "      <td>2020-10-31 00:32:49</td>\n",
       "      <td>-9.44</td>\n",
       "      <td>147.18</td>\n",
       "      <td>84.20</td>\n",
       "      <td>70</td>\n",
       "      <td>20</td>\n",
       "      <td>3.36</td>\n",
       "    </tr>\n",
       "    <tr>\n",
       "      <th>22</th>\n",
       "      <td>22</td>\n",
       "      <td>Sibolga</td>\n",
       "      <td>ID</td>\n",
       "      <td>2020-10-31 00:29:20</td>\n",
       "      <td>1.74</td>\n",
       "      <td>98.78</td>\n",
       "      <td>77.81</td>\n",
       "      <td>75</td>\n",
       "      <td>95</td>\n",
       "      <td>2.53</td>\n",
       "    </tr>\n",
       "    <tr>\n",
       "      <th>27</th>\n",
       "      <td>27</td>\n",
       "      <td>Atuona</td>\n",
       "      <td>PF</td>\n",
       "      <td>2020-10-31 00:32:49</td>\n",
       "      <td>-9.80</td>\n",
       "      <td>-139.03</td>\n",
       "      <td>78.04</td>\n",
       "      <td>73</td>\n",
       "      <td>41</td>\n",
       "      <td>11.12</td>\n",
       "    </tr>\n",
       "  </tbody>\n",
       "</table>\n",
       "</div>"
      ],
      "text/plain": [
       "    City_ID          City Country                 Date    Lat     Lng  \\\n",
       "0         0    Sao Filipe      CV  2020-10-31 00:32:46  14.90  -24.50   \n",
       "5         5          Atar      MR  2020-10-31 00:32:09  20.52  -13.05   \n",
       "6         6      Kanigoro      ID  2020-10-31 00:32:47  -8.13  112.22   \n",
       "7         7    Oranjestad      AW  2020-10-31 00:30:50  12.52  -70.03   \n",
       "11       11      Alenquer      BR  2020-10-31 00:32:48  -1.94  -54.74   \n",
       "15       15   Kloulklubed      PW  2020-10-31 00:32:48   7.04  134.26   \n",
       "19       19        Avarua      CK  2020-10-31 00:32:49 -21.21 -159.78   \n",
       "20       20  Port Moresby      PG  2020-10-31 00:32:49  -9.44  147.18   \n",
       "22       22       Sibolga      ID  2020-10-31 00:29:20   1.74   98.78   \n",
       "27       27        Atuona      PF  2020-10-31 00:32:49  -9.80 -139.03   \n",
       "\n",
       "    Max Temp  Humidity  Cloudiness  Wind Speed  \n",
       "0      81.32        59         100       15.28  \n",
       "5      82.89        16          10        7.99  \n",
       "6      81.28        72          89        5.93  \n",
       "7      82.40        83          40        9.17  \n",
       "11     78.80        88          20        3.36  \n",
       "15     82.40        83          75       20.80  \n",
       "19     77.00        73          99        8.05  \n",
       "20     84.20        70          20        3.36  \n",
       "22     77.81        75          95        2.53  \n",
       "27     78.04        73          41       11.12  "
      ]
     },
     "execution_count": 29,
     "metadata": {},
     "output_type": "execute_result"
    }
   ],
   "source": [
    "# Filter the dataset to find the cities that fit the criteria.\n",
    "preferred_cities_df = city_data_df.loc[(city_data_df[\"Max Temp\"] <= max_temp) & \\\n",
    "                                       (city_data_df[\"Max Temp\"] >= min_temp)]\n",
    "preferred_cities_df.head(10)"
   ]
  },
  {
   "cell_type": "code",
   "execution_count": 30,
   "metadata": {},
   "outputs": [
    {
     "data": {
      "text/plain": [
       "City_ID       160\n",
       "City          160\n",
       "Country       160\n",
       "Date          160\n",
       "Lat           160\n",
       "Lng           160\n",
       "Max Temp      160\n",
       "Humidity      160\n",
       "Cloudiness    160\n",
       "Wind Speed    160\n",
       "dtype: int64"
      ]
     },
     "execution_count": 30,
     "metadata": {},
     "output_type": "execute_result"
    }
   ],
   "source": [
    "preferred_cities_df.count()"
   ]
  },
  {
   "cell_type": "code",
   "execution_count": 31,
   "metadata": {},
   "outputs": [
    {
     "data": {
      "text/html": [
       "<div>\n",
       "<style scoped>\n",
       "    .dataframe tbody tr th:only-of-type {\n",
       "        vertical-align: middle;\n",
       "    }\n",
       "\n",
       "    .dataframe tbody tr th {\n",
       "        vertical-align: top;\n",
       "    }\n",
       "\n",
       "    .dataframe thead th {\n",
       "        text-align: right;\n",
       "    }\n",
       "</style>\n",
       "<table border=\"1\" class=\"dataframe\">\n",
       "  <thead>\n",
       "    <tr style=\"text-align: right;\">\n",
       "      <th></th>\n",
       "      <th>City</th>\n",
       "      <th>Country</th>\n",
       "      <th>Max Temp</th>\n",
       "      <th>Lat</th>\n",
       "      <th>Lng</th>\n",
       "      <th>Hotel Name</th>\n",
       "    </tr>\n",
       "  </thead>\n",
       "  <tbody>\n",
       "    <tr>\n",
       "      <th>0</th>\n",
       "      <td>Sao Filipe</td>\n",
       "      <td>CV</td>\n",
       "      <td>81.32</td>\n",
       "      <td>14.90</td>\n",
       "      <td>-24.50</td>\n",
       "      <td></td>\n",
       "    </tr>\n",
       "    <tr>\n",
       "      <th>5</th>\n",
       "      <td>Atar</td>\n",
       "      <td>MR</td>\n",
       "      <td>82.89</td>\n",
       "      <td>20.52</td>\n",
       "      <td>-13.05</td>\n",
       "      <td></td>\n",
       "    </tr>\n",
       "    <tr>\n",
       "      <th>6</th>\n",
       "      <td>Kanigoro</td>\n",
       "      <td>ID</td>\n",
       "      <td>81.28</td>\n",
       "      <td>-8.13</td>\n",
       "      <td>112.22</td>\n",
       "      <td></td>\n",
       "    </tr>\n",
       "    <tr>\n",
       "      <th>7</th>\n",
       "      <td>Oranjestad</td>\n",
       "      <td>AW</td>\n",
       "      <td>82.40</td>\n",
       "      <td>12.52</td>\n",
       "      <td>-70.03</td>\n",
       "      <td></td>\n",
       "    </tr>\n",
       "    <tr>\n",
       "      <th>11</th>\n",
       "      <td>Alenquer</td>\n",
       "      <td>BR</td>\n",
       "      <td>78.80</td>\n",
       "      <td>-1.94</td>\n",
       "      <td>-54.74</td>\n",
       "      <td></td>\n",
       "    </tr>\n",
       "    <tr>\n",
       "      <th>15</th>\n",
       "      <td>Kloulklubed</td>\n",
       "      <td>PW</td>\n",
       "      <td>82.40</td>\n",
       "      <td>7.04</td>\n",
       "      <td>134.26</td>\n",
       "      <td></td>\n",
       "    </tr>\n",
       "    <tr>\n",
       "      <th>19</th>\n",
       "      <td>Avarua</td>\n",
       "      <td>CK</td>\n",
       "      <td>77.00</td>\n",
       "      <td>-21.21</td>\n",
       "      <td>-159.78</td>\n",
       "      <td></td>\n",
       "    </tr>\n",
       "    <tr>\n",
       "      <th>20</th>\n",
       "      <td>Port Moresby</td>\n",
       "      <td>PG</td>\n",
       "      <td>84.20</td>\n",
       "      <td>-9.44</td>\n",
       "      <td>147.18</td>\n",
       "      <td></td>\n",
       "    </tr>\n",
       "    <tr>\n",
       "      <th>22</th>\n",
       "      <td>Sibolga</td>\n",
       "      <td>ID</td>\n",
       "      <td>77.81</td>\n",
       "      <td>1.74</td>\n",
       "      <td>98.78</td>\n",
       "      <td></td>\n",
       "    </tr>\n",
       "    <tr>\n",
       "      <th>27</th>\n",
       "      <td>Atuona</td>\n",
       "      <td>PF</td>\n",
       "      <td>78.04</td>\n",
       "      <td>-9.80</td>\n",
       "      <td>-139.03</td>\n",
       "      <td></td>\n",
       "    </tr>\n",
       "  </tbody>\n",
       "</table>\n",
       "</div>"
      ],
      "text/plain": [
       "            City Country  Max Temp    Lat     Lng Hotel Name\n",
       "0     Sao Filipe      CV     81.32  14.90  -24.50           \n",
       "5           Atar      MR     82.89  20.52  -13.05           \n",
       "6       Kanigoro      ID     81.28  -8.13  112.22           \n",
       "7     Oranjestad      AW     82.40  12.52  -70.03           \n",
       "11      Alenquer      BR     78.80  -1.94  -54.74           \n",
       "15   Kloulklubed      PW     82.40   7.04  134.26           \n",
       "19        Avarua      CK     77.00 -21.21 -159.78           \n",
       "20  Port Moresby      PG     84.20  -9.44  147.18           \n",
       "22       Sibolga      ID     77.81   1.74   98.78           \n",
       "27        Atuona      PF     78.04  -9.80 -139.03           "
      ]
     },
     "execution_count": 31,
     "metadata": {},
     "output_type": "execute_result"
    }
   ],
   "source": [
    "# Create DataFrame called hotel_df to store hotel names along with city, country, max temp, and coordinates.\n",
    "hotel_df = preferred_cities_df[[\"City\", \"Country\", \"Max Temp\", \"Lat\", \"Lng\"]].copy()\n",
    "hotel_df[\"Hotel Name\"] = \"\"\n",
    "hotel_df.head(10)"
   ]
  },
  {
   "cell_type": "code",
   "execution_count": 45,
   "metadata": {},
   "outputs": [],
   "source": [
    "# Set parameters to search for a hotel.\n",
    "params = {\n",
    "    \"radius\": 5000,\n",
    "    \"type\": \"lodging\",\n",
    "    \"key\": g_key\n",
    "}\n",
    "\n",
    "# Iterate through the DataFrame.\n",
    "for index, row in hotel_df.iterrows():\n",
    "    # Get the latitude and longitude.\n",
    "    lat = row[\"Lat\"]\n",
    "    lng = row[\"Lng\"]\n",
    "\n",
    "    # Add the latitude and longitude to location key for the params dictionary.\n",
    "    params[\"location\"] = f\"{lat},{lng}\"\n",
    "\n",
    "    # Use the search term: \"lodging\" and our latitude and longitude.\n",
    "    base_url = \"https://maps.googleapis.com/maps/api/place/nearbysearch/json\"\n",
    "    # Make request and get the JSON data from the search.\n",
    "    hotels = requests.get(base_url, params=params).json()\n",
    "\n",
    "# Grab the first hotel from the results and store the name.\n",
    "try:\n",
    "    hotel_df.loc[index, \"Hotel Name\"] = hotels[\"results\"][0][\"name\"]\n",
    "except (IndexError):\n",
    "    print(\"Hotel not found... skipping.\")    \n",
    "   "
   ]
  },
  {
   "cell_type": "code",
   "execution_count": 46,
   "metadata": {},
   "outputs": [
    {
     "data": {
      "text/html": [
       "<div>\n",
       "<style scoped>\n",
       "    .dataframe tbody tr th:only-of-type {\n",
       "        vertical-align: middle;\n",
       "    }\n",
       "\n",
       "    .dataframe tbody tr th {\n",
       "        vertical-align: top;\n",
       "    }\n",
       "\n",
       "    .dataframe thead th {\n",
       "        text-align: right;\n",
       "    }\n",
       "</style>\n",
       "<table border=\"1\" class=\"dataframe\">\n",
       "  <thead>\n",
       "    <tr style=\"text-align: right;\">\n",
       "      <th></th>\n",
       "      <th>City</th>\n",
       "      <th>Country</th>\n",
       "      <th>Max Temp</th>\n",
       "      <th>Lat</th>\n",
       "      <th>Lng</th>\n",
       "      <th>Hotel Name</th>\n",
       "    </tr>\n",
       "  </thead>\n",
       "  <tbody>\n",
       "    <tr>\n",
       "      <th>0</th>\n",
       "      <td>Sao Filipe</td>\n",
       "      <td>CV</td>\n",
       "      <td>81.32</td>\n",
       "      <td>14.90</td>\n",
       "      <td>-24.50</td>\n",
       "      <td>Tortuga B&amp;B</td>\n",
       "    </tr>\n",
       "    <tr>\n",
       "      <th>5</th>\n",
       "      <td>Atar</td>\n",
       "      <td>MR</td>\n",
       "      <td>82.89</td>\n",
       "      <td>20.52</td>\n",
       "      <td>-13.05</td>\n",
       "      <td>Oumou Elghoura</td>\n",
       "    </tr>\n",
       "    <tr>\n",
       "      <th>6</th>\n",
       "      <td>Kanigoro</td>\n",
       "      <td>ID</td>\n",
       "      <td>81.28</td>\n",
       "      <td>-8.13</td>\n",
       "      <td>112.22</td>\n",
       "      <td>Musafer Villa ( Villa Erlin )</td>\n",
       "    </tr>\n",
       "    <tr>\n",
       "      <th>7</th>\n",
       "      <td>Oranjestad</td>\n",
       "      <td>AW</td>\n",
       "      <td>82.40</td>\n",
       "      <td>12.52</td>\n",
       "      <td>-70.03</td>\n",
       "      <td>Divi Village Golf &amp; Beach Resort</td>\n",
       "    </tr>\n",
       "    <tr>\n",
       "      <th>11</th>\n",
       "      <td>Alenquer</td>\n",
       "      <td>BR</td>\n",
       "      <td>78.80</td>\n",
       "      <td>-1.94</td>\n",
       "      <td>-54.74</td>\n",
       "      <td>Josilene Castro</td>\n",
       "    </tr>\n",
       "    <tr>\n",
       "      <th>15</th>\n",
       "      <td>Kloulklubed</td>\n",
       "      <td>PW</td>\n",
       "      <td>82.40</td>\n",
       "      <td>7.04</td>\n",
       "      <td>134.26</td>\n",
       "      <td>Storyboard Beach Resort</td>\n",
       "    </tr>\n",
       "    <tr>\n",
       "      <th>19</th>\n",
       "      <td>Avarua</td>\n",
       "      <td>CK</td>\n",
       "      <td>77.00</td>\n",
       "      <td>-21.21</td>\n",
       "      <td>-159.78</td>\n",
       "      <td>Paradise Inn</td>\n",
       "    </tr>\n",
       "    <tr>\n",
       "      <th>20</th>\n",
       "      <td>Port Moresby</td>\n",
       "      <td>PG</td>\n",
       "      <td>84.20</td>\n",
       "      <td>-9.44</td>\n",
       "      <td>147.18</td>\n",
       "      <td>Lamana Hotel</td>\n",
       "    </tr>\n",
       "    <tr>\n",
       "      <th>22</th>\n",
       "      <td>Sibolga</td>\n",
       "      <td>ID</td>\n",
       "      <td>77.81</td>\n",
       "      <td>1.74</td>\n",
       "      <td>98.78</td>\n",
       "      <td>Hotel Syariah CN Darussalam</td>\n",
       "    </tr>\n",
       "    <tr>\n",
       "      <th>27</th>\n",
       "      <td>Atuona</td>\n",
       "      <td>PF</td>\n",
       "      <td>78.04</td>\n",
       "      <td>-9.80</td>\n",
       "      <td>-139.03</td>\n",
       "      <td>Villa Enata</td>\n",
       "    </tr>\n",
       "  </tbody>\n",
       "</table>\n",
       "</div>"
      ],
      "text/plain": [
       "            City Country  Max Temp    Lat     Lng  \\\n",
       "0     Sao Filipe      CV     81.32  14.90  -24.50   \n",
       "5           Atar      MR     82.89  20.52  -13.05   \n",
       "6       Kanigoro      ID     81.28  -8.13  112.22   \n",
       "7     Oranjestad      AW     82.40  12.52  -70.03   \n",
       "11      Alenquer      BR     78.80  -1.94  -54.74   \n",
       "15   Kloulklubed      PW     82.40   7.04  134.26   \n",
       "19        Avarua      CK     77.00 -21.21 -159.78   \n",
       "20  Port Moresby      PG     84.20  -9.44  147.18   \n",
       "22       Sibolga      ID     77.81   1.74   98.78   \n",
       "27        Atuona      PF     78.04  -9.80 -139.03   \n",
       "\n",
       "                          Hotel Name  \n",
       "0                        Tortuga B&B  \n",
       "5                     Oumou Elghoura  \n",
       "6      Musafer Villa ( Villa Erlin )  \n",
       "7   Divi Village Golf & Beach Resort  \n",
       "11                   Josilene Castro  \n",
       "15           Storyboard Beach Resort  \n",
       "19                      Paradise Inn  \n",
       "20                      Lamana Hotel  \n",
       "22       Hotel Syariah CN Darussalam  \n",
       "27                       Villa Enata  "
      ]
     },
     "execution_count": 46,
     "metadata": {},
     "output_type": "execute_result"
    }
   ],
   "source": [
    "hotel_df.head(10)"
   ]
  },
  {
   "cell_type": "code",
   "execution_count": 47,
   "metadata": {},
   "outputs": [
    {
     "data": {
      "application/vnd.jupyter.widget-view+json": {
       "model_id": "02b8405de4054acebb528cefaf1b8a22",
       "version_major": 2,
       "version_minor": 0
      },
      "text/plain": [
       "Figure(layout=FigureLayout(height='420px'))"
      ]
     },
     "metadata": {},
     "output_type": "display_data"
    }
   ],
   "source": [
    "# Add a heatmap of temperature for the vacation spots.\n",
    "locations = hotel_df[[\"Lat\", \"Lng\"]]\n",
    "max_temp = hotel_df[\"Max Temp\"]\n",
    "fig = gmaps.figure(center=(30.0, 31.0), zoom_level=1.5)\n",
    "heat_layer = gmaps.heatmap_layer(locations, weights=max_temp, dissipating=False,\n",
    "             max_intensity=300, point_radius=4)\n",
    "\n",
    "fig.add_layer(heat_layer)\n",
    "# Call the figure to plot the data.\n",
    "fig"
   ]
  },
  {
   "cell_type": "code",
   "execution_count": 48,
   "metadata": {},
   "outputs": [
    {
     "data": {
      "application/vnd.jupyter.widget-view+json": {
       "model_id": "6f633259707a49aab0d0d7301897e915",
       "version_major": 2,
       "version_minor": 0
      },
      "text/plain": [
       "Figure(layout=FigureLayout(height='420px'))"
      ]
     },
     "metadata": {},
     "output_type": "display_data"
    }
   ],
   "source": [
    "# Add a heatmap of temperature for the vacation spots and marker for each city.\n",
    "locations = hotel_df[[\"Lat\", \"Lng\"]]\n",
    "max_temp = hotel_df[\"Max Temp\"]\n",
    "fig = gmaps.figure(center=(30.0, 31.0), zoom_level=1.5)\n",
    "heat_layer = gmaps.heatmap_layer(locations, weights=max_temp,\n",
    "             dissipating=False, max_intensity=300, point_radius=4)\n",
    "marker_layer = gmaps.marker_layer(locations)\n",
    "fig.add_layer(heat_layer)\n",
    "fig.add_layer(marker_layer)\n",
    "# Call the figure to plot the data.\n",
    "fig"
   ]
  },
  {
   "cell_type": "code",
   "execution_count": 49,
   "metadata": {},
   "outputs": [],
   "source": [
    "info_box_template = \"\"\"\n",
    "<dl>\n",
    "<dt>Hotel Name</dt><dd>{Hotel Name}</dd>\n",
    "<dt>City</dt><dd>{City}</dd>\n",
    "<dt>Country</dt><dd>{Country}</dd>\n",
    "<dt>Max Temp</dt><dd>{Max Temp} °F</dd>\n",
    "</dl>\n",
    "\"\"\""
   ]
  },
  {
   "cell_type": "code",
   "execution_count": 50,
   "metadata": {},
   "outputs": [],
   "source": [
    "# Store the DataFrame Row.\n",
    "hotel_info = [info_box_template.format(**row) for index, row in hotel_df.iterrows()]"
   ]
  },
  {
   "cell_type": "code",
   "execution_count": 51,
   "metadata": {},
   "outputs": [
    {
     "data": {
      "application/vnd.jupyter.widget-view+json": {
       "model_id": "d1153e1b2f94462093dd66eb0c414244",
       "version_major": 2,
       "version_minor": 0
      },
      "text/plain": [
       "Figure(layout=FigureLayout(height='420px'))"
      ]
     },
     "metadata": {},
     "output_type": "display_data"
    }
   ],
   "source": [
    "# Add a heatmap of temperature for the vacation spots and a pop-up marker for each city.\n",
    "locations = hotel_df[[\"Lat\", \"Lng\"]]\n",
    "max_temp = hotel_df[\"Max Temp\"]\n",
    "fig = gmaps.figure(center=(30.0, 31.0), zoom_level=1.5)\n",
    "heat_layer = gmaps.heatmap_layer(locations, weights=max_temp,dissipating=False,\n",
    "             max_intensity=300, point_radius=4)\n",
    "marker_layer = gmaps.marker_layer(locations, info_box_content=hotel_info)\n",
    "fig.add_layer(heat_layer)\n",
    "fig.add_layer(marker_layer)\n",
    "\n",
    "# Call the figure to plot the data.\n",
    "fig"
   ]
  },
  {
   "cell_type": "code",
   "execution_count": null,
   "metadata": {},
   "outputs": [],
   "source": []
  }
 ],
 "metadata": {
  "kernelspec": {
   "display_name": "Python 3",
   "language": "python",
   "name": "python3"
  },
  "language_info": {
   "codemirror_mode": {
    "name": "ipython",
    "version": 3
   },
   "file_extension": ".py",
   "mimetype": "text/x-python",
   "name": "python",
   "nbconvert_exporter": "python",
   "pygments_lexer": "ipython3",
   "version": "3.8.3"
  }
 },
 "nbformat": 4,
 "nbformat_minor": 4
}
